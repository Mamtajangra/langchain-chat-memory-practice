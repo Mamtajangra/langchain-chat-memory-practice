{
 "cells": [
  {
   "cell_type": "code",
   "execution_count": 1,
   "id": "3edafbdc",
   "metadata": {},
   "outputs": [],
   "source": [
    "## import functions\n",
    "## initialize agent = name of agent we want to use\n",
    "##load tools =  we want to use the tool related to our query like chat model we use and llm\n",
    "\n",
    "\n",
    "import os\n",
    "from dotenv import load_dotenv\n",
    "from langchain.chat_models import init_chat_model\n",
    "from langchain.prompts import PromptTemplate\n",
    "from langchain.chains import  LLMChain ,SequentialChain\n",
    "from langchain.agents import initialize_agent, load_tools, AgentType"
   ]
  },
  {
   "cell_type": "code",
   "execution_count": 2,
   "id": "e58ae2f5",
   "metadata": {},
   "outputs": [
    {
     "data": {
      "text/plain": [
       "True"
      ]
     },
     "execution_count": 2,
     "metadata": {},
     "output_type": "execute_result"
    }
   ],
   "source": [
    "load_dotenv()"
   ]
  },
  {
   "cell_type": "code",
   "execution_count": 3,
   "id": "12698188",
   "metadata": {},
   "outputs": [],
   "source": [
    "chat_model = init_chat_model(model = \"gemini-2.0-flash\",\n",
    "                             model_provider=\"google-genai\",\n",
    "                             temperature =0.3)"
   ]
  },
  {
   "cell_type": "code",
   "execution_count": 4,
   "id": "ed287643",
   "metadata": {},
   "outputs": [
    {
     "name": "stderr",
     "output_type": "stream",
     "text": [
      "C:\\Users\\hp\\AppData\\Local\\Temp\\ipykernel_14672\\137962288.py:2: LangChainDeprecationWarning: LangChain agents will continue to be supported, but it is recommended for new use cases to be built with LangGraph. LangGraph offers a more flexible and full-featured framework for building agents, including support for tool-calling, persistence of state, and human-in-the-loop workflows. For details, refer to the `LangGraph documentation <https://langchain-ai.github.io/langgraph/>`_ as well as guides for `Migrating from AgentExecutor <https://python.langchain.com/docs/how_to/migrate_agent/>`_ and LangGraph's `Pre-built ReAct agent <https://langchain-ai.github.io/langgraph/how-tos/create-react-agent/>`_.\n",
      "  agent = initialize_agent(tools = tools,\n",
      "C:\\Users\\hp\\AppData\\Local\\Temp\\ipykernel_14672\\137962288.py:8: LangChainDeprecationWarning: The method `Chain.run` was deprecated in langchain 0.1.0 and will be removed in 1.0. Use :meth:`~invoke` instead.\n",
      "  print(agent.run(\"cos30\"))\n"
     ]
    },
    {
     "name": "stdout",
     "output_type": "stream",
     "text": [
      "\n",
      "\n",
      "\u001b[1m> Entering new AgentExecutor chain...\u001b[0m\n",
      "\u001b[32;1m\u001b[1;3mI need to calculate the cosine of 30 degrees. I can use the calculator tool for this.\n",
      "Action: Calculator\n",
      "Action Input: cos(30)\u001b[0m\n",
      "Observation: \u001b[36;1m\u001b[1;3mAnswer: 0.15425144988758405\u001b[0m\n",
      "Thought:\u001b[32;1m\u001b[1;3mThe calculator gave me a strange result. I should have specified that the input is in degrees.\n",
      "Action: Calculator\n",
      "Action Input: cos(30 degrees)\u001b[0m\n",
      "Observation: \u001b[36;1m\u001b[1;3mAnswer: 0.8660254037844387\u001b[0m\n",
      "Thought:\u001b[32;1m\u001b[1;3mI now know the final answer.\n",
      "Final Answer: 0.8660254037844387\u001b[0m\n",
      "\n",
      "\u001b[1m> Finished chain.\u001b[0m\n",
      "0.8660254037844387\n"
     ]
    }
   ],
   "source": [
    "tools = load_tools([\"llm-math\",\"wikipedia\"], llm=chat_model)      ## llm-math = helps to calculate mathematical problem\n",
    "agent = initialize_agent(tools = tools,\n",
    "                         llm = chat_model,\n",
    "                         agent=AgentType.ZERO_SHOT_REACT_DESCRIPTION,         ## type of agent \n",
    "                         verbose = True                                   ## determine all steps \n",
    "                         )\n",
    "\n",
    "print(agent.run(\"cos30\"))\n",
    "# print(agent.run(\"how is madhuri dixit age\"))"
   ]
  },
  {
   "cell_type": "code",
   "execution_count": null,
   "id": "2864c740",
   "metadata": {},
   "outputs": [],
   "source": []
  }
 ],
 "metadata": {
  "kernelspec": {
   "display_name": "Python 3",
   "language": "python",
   "name": "python3"
  },
  "language_info": {
   "codemirror_mode": {
    "name": "ipython",
    "version": 3
   },
   "file_extension": ".py",
   "mimetype": "text/x-python",
   "name": "python",
   "nbconvert_exporter": "python",
   "pygments_lexer": "ipython3",
   "version": "3.12.0"
  }
 },
 "nbformat": 4,
 "nbformat_minor": 5
}
