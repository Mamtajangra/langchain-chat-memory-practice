{
 "cells": [
  {
   "cell_type": "code",
   "execution_count": null,
   "id": "6feeb303",
   "metadata": {},
   "outputs": [],
   "source": [
    "import os\n",
    "from dotenv import load_dotenv\n",
    "from langchain.chat_models import init_chat_model\n",
    "from langchain.prompts import PromptTemplate\n",
    "from langchain.chains import  LLMChain ,SequentialChain\n",
    "from langchain.memory import ConversationBufferMemory           ## conversion buffer memory is used to remember the old history\n",
    "from langchain.chains import ConversationChain                  ## conversation chain is used to combine old and new history"
   ]
  },
  {
   "cell_type": "code",
   "execution_count": 2,
   "id": "e0f2d6e0",
   "metadata": {},
   "outputs": [
    {
     "data": {
      "text/plain": [
       "True"
      ]
     },
     "execution_count": 2,
     "metadata": {},
     "output_type": "execute_result"
    }
   ],
   "source": [
    "load_dotenv()"
   ]
  },
  {
   "cell_type": "code",
   "execution_count": 4,
   "id": "37258657",
   "metadata": {},
   "outputs": [],
   "source": [
    "chat_model = init_chat_model(model = \"gemini-2.0-flash\",\n",
    "                             model_provider=\"google-genai\",\n",
    "                             temperature =0.3)"
   ]
  },
  {
   "cell_type": "code",
   "execution_count": null,
   "id": "8eeb6820",
   "metadata": {},
   "outputs": [
    {
     "name": "stdout",
     "output_type": "stream",
     "text": [
      "Hi Mamtu! It's nice to meet you. My name is just AI, or you can call me whatever you like, really. I don't have preferences like humans do. I'm a large language model, trained by Google. I'm excited to chat with you today! What's on your mind?\n",
      "Of course, Mamtu! Your name is Mamtu. I remembered it from when you first introduced yourself. Is there anything else I can help you with today? Perhaps you'd like to tell me a bit more about yourself? I'm always eager to learn new things!\n",
      "Human: Hi, my name is Mamtu\n",
      "AI: Hi Mamtu! It's nice to meet you. My name is just AI, or you can call me whatever you like, really. I don't have preferences like humans do. I'm a large language model, trained by Google. I'm excited to chat with you today! What's on your mind?\n",
      "Human: Can you remind me what my name is?\n",
      "AI: Of course, Mamtu! Your name is Mamtu. I remembered it from when you first introduced yourself. Is there anything else I can help you with today? Perhaps you'd like to tell me a bit more about yourself? I'm always eager to learn new things!\n"
     ]
    }
   ],
   "source": [
    "memory = ConversationBufferMemory()\n",
    "conversation = ConversationChain(llm=chat_model,memory = memory)\n",
    "print(conversation.run(\"Hi, my name is Mamtu\"))\n",
    "print(conversation.run(\"Can you remind me what my name is?\"))\n",
    "# print(conversation.memory.buffer)"
   ]
  }
 ],
 "metadata": {
  "kernelspec": {
   "display_name": "Python 3",
   "language": "python",
   "name": "python3"
  },
  "language_info": {
   "codemirror_mode": {
    "name": "ipython",
    "version": 3
   },
   "file_extension": ".py",
   "mimetype": "text/x-python",
   "name": "python",
   "nbconvert_exporter": "python",
   "pygments_lexer": "ipython3",
   "version": "3.12.0"
  }
 },
 "nbformat": 4,
 "nbformat_minor": 5
}
